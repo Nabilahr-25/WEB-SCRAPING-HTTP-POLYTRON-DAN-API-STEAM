{
  "nbformat": 4,
  "nbformat_minor": 0,
  "metadata": {
    "colab": {
      "provenance": []
    },
    "kernelspec": {
      "name": "python3",
      "display_name": "Python 3"
    },
    "language_info": {
      "name": "python"
    }
  },
  "cells": [
    {
      "cell_type": "markdown",
      "source": [
        "# **WEB SCRAPING API**"
      ],
      "metadata": {
        "id": "Ve9FkZEOH5c6"
      }
    },
    {
      "cell_type": "markdown",
      "source": [
        "**Kelas 2024A**\n",
        "\n",
        "Rebriane Atitha G. (039)\n",
        "\n",
        "Nabilah Hilmi R. (053)\n",
        "\n",
        "Kekila Akmal N. (144)"
      ],
      "metadata": {
        "id": "6-M61DTNIGsL"
      }
    },
    {
      "cell_type": "markdown",
      "source": [
        "Web Scraping dengan API:\n",
        "1. Identifikasi Situs Web atau Layanan yang Menyediakan API\n",
        "2. Dapatkan Kunci API (API Key)\n",
        "3. Buat Permintaan ke API\n",
        "4. Urai (Parse) Data Respons\n",
        "5. Simpan Data"
      ],
      "metadata": {
        "id": "GhL9R0v_Moml"
      }
    },
    {
      "cell_type": "markdown",
      "source": [
        "**Inisialisasi dan Impor Pustaka**"
      ],
      "metadata": {
        "id": "0nPoLZ47OFwr"
      }
    },
    {
      "cell_type": "code",
      "source": [
        "import requests\n",
        "import json\n",
        "import pandas as pd\n",
        "import time\n",
        "api_key = '41984B7715C8A57676000E24258DC3E3'"
      ],
      "metadata": {
        "id": "dhNxp757s-FR"
      },
      "execution_count": null,
      "outputs": []
    },
    {
      "cell_type": "markdown",
      "source": [
        "**Mengambil Daftar Aplikasi**"
      ],
      "metadata": {
        "id": "TjNDTso3OX8S"
      }
    },
    {
      "cell_type": "code",
      "source": [
        "get_app_list_url = \"http://api.steampowered.com/ISteamApps/GetAppList/v2/\"\n",
        "response = requests.get(get_app_list_url)\n",
        "data = response.json()\n",
        "app_list = data[\"applist\"][\"apps\"]\n",
        "print(f\"Total apps: {len(app_list)}\")"
      ],
      "metadata": {
        "colab": {
          "base_uri": "https://localhost:8080/"
        },
        "id": "C7_dMYbObmWT",
        "outputId": "268f22c3-6bef-4354-d8de-95c45243ac99"
      },
      "execution_count": null,
      "outputs": [
        {
          "output_type": "stream",
          "name": "stdout",
          "text": [
            "Total apps: 266722\n"
          ]
        }
      ]
    },
    {
      "cell_type": "markdown",
      "source": [
        "**Menyimpan Daftar Aplikasi ke File JSON**"
      ],
      "metadata": {
        "id": "_hWFSexBOi26"
      }
    },
    {
      "cell_type": "code",
      "source": [
        "with open(\"response.json\", \"w\", encoding=\"utf-8\") as f:\n",
        "    json.dump(app_list, f, indent=4, ensure_ascii=False)\n"
      ],
      "metadata": {
        "id": "gQ6pErNY7Nmm"
      },
      "execution_count": null,
      "outputs": []
    },
    {
      "cell_type": "markdown",
      "source": [
        "**Mengambil Detail Setiap Game**"
      ],
      "metadata": {
        "id": "YqQ317qdOoEi"
      }
    },
    {
      "cell_type": "code",
      "source": [
        "with open(\"response.json\", \"r\", encoding=\"utf-8\") as f:\n",
        "    data = json.load(f)\n",
        "\n",
        "games_data = []\n",
        "app_details_url = \"http://store.steampowered.com/api/appdetails\"\n",
        "\n",
        "for app in data[:100]:\n",
        "    appid = app[\"appid\"]\n",
        "    name = app[\"name\"]\n",
        "\n",
        "    detail_url = f\"{app_details_url}?appids={appid}&l=english\"\n",
        "    try:\n",
        "        res = requests.get(detail_url, timeout=10)\n",
        "        if res.headers.get(\"Content-Type\",\"\").startswith(\"application/json\"):\n",
        "            app_info = res.json().get(str(appid), {})\n",
        "        else:\n",
        "            app_info = {}\n",
        "\n",
        "        if app_info.get(\"success\") and \"data\" in app_info:\n",
        "            game = app_info[\"data\"]\n",
        "            genres = \", \".join([g[\"description\"] for g in game.get(\"genres\", [])])\n",
        "            price = game.get(\"price_overview\", {}).get(\"final_formatted\", \"Gratis\")\n",
        "        else:\n",
        "            genres, price = \"\", \"Unknown\"\n",
        "\n",
        "        games_data.append([appid, name, genres, price])\n",
        "\n",
        "    except Exception as e:\n",
        "        print(f\"Error {appid}: {e}\")\n",
        "        games_data.append([appid, name, \"\", \"Error\"])\n",
        "\n",
        "    time.sleep(0.3)\n"
      ],
      "metadata": {
        "id": "_bYI9uXFI8V_"
      },
      "execution_count": null,
      "outputs": []
    },
    {
      "cell_type": "markdown",
      "source": [
        "**Menyimpan Data ke File CSV**"
      ],
      "metadata": {
        "id": "w1ChFLFLOxMq"
      }
    },
    {
      "cell_type": "code",
      "source": [
        "import pandas as pd\n",
        "df = pd.DataFrame(\n",
        "    games_data,\n",
        "    columns=['AppID', 'Name', 'Genres', 'Price']\n",
        ")\n",
        "display(df)\n",
        "df.to_csv(\"steam_games_sample.csv\", index=False, encoding=\"utf-8\")\n",
        "print(\"\\nData berhasil disimpan ke file steam_games_sample.csv\")"
      ],
      "metadata": {
        "id": "eYpSuewb9hte"
      },
      "execution_count": null,
      "outputs": []
    }
  ]
}