{
  "nbformat": 4,
  "nbformat_minor": 0,
  "metadata": {
    "colab": {
      "provenance": []
    },
    "kernelspec": {
      "name": "python3",
      "display_name": "Python 3"
    },
    "language_info": {
      "name": "python"
    }
  },
  "cells": [
    {
      "cell_type": "markdown",
      "source": [
        "# **WEB SCRAPING API**"
      ],
      "metadata": {
        "id": "Ve9FkZEOH5c6"
      }
    },
    {
      "cell_type": "markdown",
      "source": [
        "**Kelas 2024A**\n",
        "\n",
        "Rebriane Atitha G. (039)\n",
        "\n",
        "Nabilah Hilmi R. (053)\n",
        "\n",
        "Kekila Akmal N. (144)"
      ],
      "metadata": {
        "id": "6-M61DTNIGsL"
      }
    },
    {
      "cell_type": "markdown",
      "source": [
        "Web Scraping dengan API:\n",
        "1. Identifikasi Situs Web atau Layanan yang Menyediakan API\n",
        "2. Dapatkan Kunci API (API Key)\n",
        "3. Buat Permintaan ke API\n",
        "4. Urai (Parse) Data Respons\n",
        "5. Simpan Data"
      ],
      "metadata": {
        "id": "GhL9R0v_Moml"
      }
    },
    {
      "cell_type": "markdown",
      "source": [
        "**Inisialisasi dan Impor Pustaka**"
      ],
      "metadata": {
        "id": "0nPoLZ47OFwr"
      }
    },
    {
      "cell_type": "code",
      "source": [
        "import requests\n",
        "import json\n",
        "import pandas as pd\n",
        "import time\n",
        "api_key = '41984B7715C8A57676000E24258DC3E3'"
      ],
      "metadata": {
        "id": "dhNxp757s-FR"
      },
      "execution_count": null,
      "outputs": []
    },
    {
      "cell_type": "markdown",
      "source": [
        "**Mengambil Daftar Aplikasi**"
      ],
      "metadata": {
        "id": "TjNDTso3OX8S"
      }
    },
    {
      "cell_type": "code",
      "source": [
        "get_app_list_url = \"http://api.steampowered.com/ISteamApps/GetAppList/v2/\"\n",
        "response = requests.get(get_app_list_url)\n",
        "data = response.json()\n",
        "app_list = data[\"applist\"][\"apps\"]\n",
        "print(f\"Total apps: {len(app_list)}\")"
      ],
      "metadata": {
        "colab": {
          "base_uri": "https://localhost:8080/"
        },
        "id": "C7_dMYbObmWT",
        "outputId": "3e3cf285-957a-4205-eafa-450d89cf379c"
      },
      "execution_count": null,
      "outputs": [
        {
          "output_type": "stream",
          "name": "stdout",
          "text": [
            "Total apps: 267537\n"
          ]
        }
      ]
    },
    {
      "cell_type": "markdown",
      "source": [
        "**Menyimpan Daftar Aplikasi ke File JSON**"
      ],
      "metadata": {
        "id": "_hWFSexBOi26"
      }
    },
    {
      "cell_type": "code",
      "source": [
        "with open(\"response.json\", \"w\", encoding=\"utf-8\") as f:\n",
        "    json.dump(app_list, f, indent=4, ensure_ascii=False)\n"
      ],
      "metadata": {
        "id": "gQ6pErNY7Nmm"
      },
      "execution_count": null,
      "outputs": []
    },
    {
      "cell_type": "markdown",
      "source": [
        "**Mengambil Detail Setiap Game**"
      ],
      "metadata": {
        "id": "YqQ317qdOoEi"
      }
    },
    {
      "cell_type": "code",
      "source": [
        "with open(\"response.json\", \"r\", encoding=\"utf-8\") as f:\n",
        "    data = json.load(f)\n",
        "\n",
        "games_data = []\n",
        "app_details_url = \"http://store.steampowered.com/api/appdetails\"\n",
        "\n",
        "for app in data[:100]:\n",
        "    appid = app[\"appid\"]\n",
        "    name = app[\"name\"]\n",
        "\n",
        "    detail_url = f\"{app_details_url}?appids={appid}&l=english\"\n",
        "    try:\n",
        "        res = requests.get(detail_url, timeout=10)\n",
        "        if res.headers.get(\"Content-Type\",\"\").startswith(\"application/json\"):\n",
        "            app_info = res.json().get(str(appid), {})\n",
        "        else:\n",
        "            app_info = {}\n",
        "\n",
        "        if app_info.get(\"success\") and \"data\" in app_info:\n",
        "            game = app_info[\"data\"]\n",
        "            genres = \", \".join([g[\"description\"] for g in game.get(\"genres\", [])])\n",
        "            price = game.get(\"price_overview\", {}).get(\"final_formatted\", \"Gratis\")\n",
        "        else:\n",
        "            genres, price = \"\", \"Unknown\"\n",
        "\n",
        "        games_data.append([appid, name, genres, price])\n",
        "\n",
        "    except Exception as e:\n",
        "        print(f\"Error {appid}: {e}\")\n",
        "        games_data.append([appid, name, \"\", \"Error\"])\n",
        "\n",
        "    time.sleep(0.3)\n"
      ],
      "metadata": {
        "id": "_bYI9uXFI8V_"
      },
      "execution_count": null,
      "outputs": []
    },
    {
      "cell_type": "markdown",
      "source": [
        "**Menyimpan Data ke File CSV**"
      ],
      "metadata": {
        "id": "w1ChFLFLOxMq"
      }
    },
    {
      "cell_type": "code",
      "source": [
        "import pandas as pd\n",
        "df = pd.DataFrame(\n",
        "    games_data,\n",
        "    columns=['AppID', 'Name', 'Genres', 'Price']\n",
        ")\n",
        "display(df)\n",
        "df.to_csv(\"steam_games_sample.csv\", index=False, encoding=\"utf-8\")\n",
        "print(\"\\nData berhasil disimpan ke file steam_games_sample.csv\")"
      ],
      "metadata": {
        "id": "eYpSuewb9hte",
        "colab": {
          "base_uri": "https://localhost:8080/",
          "height": 458
        },
        "outputId": "8ebec792-467b-4fb6-d008-a93feabf2968"
      },
      "execution_count": null,
      "outputs": [
        {
          "output_type": "display_data",
          "data": {
            "text/plain": [
              "    AppID                              Name  Genres    Price\n",
              "0       5                  Dedicated Server          Unknown\n",
              "1       7                      Steam Client          Unknown\n",
              "2       8                            winui2          Unknown\n",
              "3      10                    Counter-Strike  Action    $9.99\n",
              "4      20             Team Fortress Classic  Action    $4.99\n",
              "..    ...                               ...     ...      ...\n",
              "95    903                  Darwinia Trailer          Unknown\n",
              "96    904               Half-Life 2 Trailer          Unknown\n",
              "97    905  Half-Life 2: Episode One Trailer          Unknown\n",
              "98    906          Rag Doll Kung Fu Trailer          Unknown\n",
              "99    907             Red Orchestra Trailer          Unknown\n",
              "\n",
              "[100 rows x 4 columns]"
            ],
            "text/html": [
              "\n",
              "  <div id=\"df-0a4f1c2c-69ff-4a78-a95c-9e30bc02203e\" class=\"colab-df-container\">\n",
              "    <div>\n",
              "<style scoped>\n",
              "    .dataframe tbody tr th:only-of-type {\n",
              "        vertical-align: middle;\n",
              "    }\n",
              "\n",
              "    .dataframe tbody tr th {\n",
              "        vertical-align: top;\n",
              "    }\n",
              "\n",
              "    .dataframe thead th {\n",
              "        text-align: right;\n",
              "    }\n",
              "</style>\n",
              "<table border=\"1\" class=\"dataframe\">\n",
              "  <thead>\n",
              "    <tr style=\"text-align: right;\">\n",
              "      <th></th>\n",
              "      <th>AppID</th>\n",
              "      <th>Name</th>\n",
              "      <th>Genres</th>\n",
              "      <th>Price</th>\n",
              "    </tr>\n",
              "  </thead>\n",
              "  <tbody>\n",
              "    <tr>\n",
              "      <th>0</th>\n",
              "      <td>5</td>\n",
              "      <td>Dedicated Server</td>\n",
              "      <td></td>\n",
              "      <td>Unknown</td>\n",
              "    </tr>\n",
              "    <tr>\n",
              "      <th>1</th>\n",
              "      <td>7</td>\n",
              "      <td>Steam Client</td>\n",
              "      <td></td>\n",
              "      <td>Unknown</td>\n",
              "    </tr>\n",
              "    <tr>\n",
              "      <th>2</th>\n",
              "      <td>8</td>\n",
              "      <td>winui2</td>\n",
              "      <td></td>\n",
              "      <td>Unknown</td>\n",
              "    </tr>\n",
              "    <tr>\n",
              "      <th>3</th>\n",
              "      <td>10</td>\n",
              "      <td>Counter-Strike</td>\n",
              "      <td>Action</td>\n",
              "      <td>$9.99</td>\n",
              "    </tr>\n",
              "    <tr>\n",
              "      <th>4</th>\n",
              "      <td>20</td>\n",
              "      <td>Team Fortress Classic</td>\n",
              "      <td>Action</td>\n",
              "      <td>$4.99</td>\n",
              "    </tr>\n",
              "    <tr>\n",
              "      <th>...</th>\n",
              "      <td>...</td>\n",
              "      <td>...</td>\n",
              "      <td>...</td>\n",
              "      <td>...</td>\n",
              "    </tr>\n",
              "    <tr>\n",
              "      <th>95</th>\n",
              "      <td>903</td>\n",
              "      <td>Darwinia Trailer</td>\n",
              "      <td></td>\n",
              "      <td>Unknown</td>\n",
              "    </tr>\n",
              "    <tr>\n",
              "      <th>96</th>\n",
              "      <td>904</td>\n",
              "      <td>Half-Life 2 Trailer</td>\n",
              "      <td></td>\n",
              "      <td>Unknown</td>\n",
              "    </tr>\n",
              "    <tr>\n",
              "      <th>97</th>\n",
              "      <td>905</td>\n",
              "      <td>Half-Life 2: Episode One Trailer</td>\n",
              "      <td></td>\n",
              "      <td>Unknown</td>\n",
              "    </tr>\n",
              "    <tr>\n",
              "      <th>98</th>\n",
              "      <td>906</td>\n",
              "      <td>Rag Doll Kung Fu Trailer</td>\n",
              "      <td></td>\n",
              "      <td>Unknown</td>\n",
              "    </tr>\n",
              "    <tr>\n",
              "      <th>99</th>\n",
              "      <td>907</td>\n",
              "      <td>Red Orchestra Trailer</td>\n",
              "      <td></td>\n",
              "      <td>Unknown</td>\n",
              "    </tr>\n",
              "  </tbody>\n",
              "</table>\n",
              "<p>100 rows × 4 columns</p>\n",
              "</div>\n",
              "    <div class=\"colab-df-buttons\">\n",
              "\n",
              "  <div class=\"colab-df-container\">\n",
              "    <button class=\"colab-df-convert\" onclick=\"convertToInteractive('df-0a4f1c2c-69ff-4a78-a95c-9e30bc02203e')\"\n",
              "            title=\"Convert this dataframe to an interactive table.\"\n",
              "            style=\"display:none;\">\n",
              "\n",
              "  <svg xmlns=\"http://www.w3.org/2000/svg\" height=\"24px\" viewBox=\"0 -960 960 960\">\n",
              "    <path d=\"M120-120v-720h720v720H120Zm60-500h600v-160H180v160Zm220 220h160v-160H400v160Zm0 220h160v-160H400v160ZM180-400h160v-160H180v160Zm440 0h160v-160H620v160ZM180-180h160v-160H180v160Zm440 0h160v-160H620v160Z\"/>\n",
              "  </svg>\n",
              "    </button>\n",
              "\n",
              "  <style>\n",
              "    .colab-df-container {\n",
              "      display:flex;\n",
              "      gap: 12px;\n",
              "    }\n",
              "\n",
              "    .colab-df-convert {\n",
              "      background-color: #E8F0FE;\n",
              "      border: none;\n",
              "      border-radius: 50%;\n",
              "      cursor: pointer;\n",
              "      display: none;\n",
              "      fill: #1967D2;\n",
              "      height: 32px;\n",
              "      padding: 0 0 0 0;\n",
              "      width: 32px;\n",
              "    }\n",
              "\n",
              "    .colab-df-convert:hover {\n",
              "      background-color: #E2EBFA;\n",
              "      box-shadow: 0px 1px 2px rgba(60, 64, 67, 0.3), 0px 1px 3px 1px rgba(60, 64, 67, 0.15);\n",
              "      fill: #174EA6;\n",
              "    }\n",
              "\n",
              "    .colab-df-buttons div {\n",
              "      margin-bottom: 4px;\n",
              "    }\n",
              "\n",
              "    [theme=dark] .colab-df-convert {\n",
              "      background-color: #3B4455;\n",
              "      fill: #D2E3FC;\n",
              "    }\n",
              "\n",
              "    [theme=dark] .colab-df-convert:hover {\n",
              "      background-color: #434B5C;\n",
              "      box-shadow: 0px 1px 3px 1px rgba(0, 0, 0, 0.15);\n",
              "      filter: drop-shadow(0px 1px 2px rgba(0, 0, 0, 0.3));\n",
              "      fill: #FFFFFF;\n",
              "    }\n",
              "  </style>\n",
              "\n",
              "    <script>\n",
              "      const buttonEl =\n",
              "        document.querySelector('#df-0a4f1c2c-69ff-4a78-a95c-9e30bc02203e button.colab-df-convert');\n",
              "      buttonEl.style.display =\n",
              "        google.colab.kernel.accessAllowed ? 'block' : 'none';\n",
              "\n",
              "      async function convertToInteractive(key) {\n",
              "        const element = document.querySelector('#df-0a4f1c2c-69ff-4a78-a95c-9e30bc02203e');\n",
              "        const dataTable =\n",
              "          await google.colab.kernel.invokeFunction('convertToInteractive',\n",
              "                                                    [key], {});\n",
              "        if (!dataTable) return;\n",
              "\n",
              "        const docLinkHtml = 'Like what you see? Visit the ' +\n",
              "          '<a target=\"_blank\" href=https://colab.research.google.com/notebooks/data_table.ipynb>data table notebook</a>'\n",
              "          + ' to learn more about interactive tables.';\n",
              "        element.innerHTML = '';\n",
              "        dataTable['output_type'] = 'display_data';\n",
              "        await google.colab.output.renderOutput(dataTable, element);\n",
              "        const docLink = document.createElement('div');\n",
              "        docLink.innerHTML = docLinkHtml;\n",
              "        element.appendChild(docLink);\n",
              "      }\n",
              "    </script>\n",
              "  </div>\n",
              "\n",
              "\n",
              "    <div id=\"df-c0cbeac7-c848-421a-a7e4-e038d1596f6a\">\n",
              "      <button class=\"colab-df-quickchart\" onclick=\"quickchart('df-c0cbeac7-c848-421a-a7e4-e038d1596f6a')\"\n",
              "                title=\"Suggest charts\"\n",
              "                style=\"display:none;\">\n",
              "\n",
              "<svg xmlns=\"http://www.w3.org/2000/svg\" height=\"24px\"viewBox=\"0 0 24 24\"\n",
              "     width=\"24px\">\n",
              "    <g>\n",
              "        <path d=\"M19 3H5c-1.1 0-2 .9-2 2v14c0 1.1.9 2 2 2h14c1.1 0 2-.9 2-2V5c0-1.1-.9-2-2-2zM9 17H7v-7h2v7zm4 0h-2V7h2v10zm4 0h-2v-4h2v4z\"/>\n",
              "    </g>\n",
              "</svg>\n",
              "      </button>\n",
              "\n",
              "<style>\n",
              "  .colab-df-quickchart {\n",
              "      --bg-color: #E8F0FE;\n",
              "      --fill-color: #1967D2;\n",
              "      --hover-bg-color: #E2EBFA;\n",
              "      --hover-fill-color: #174EA6;\n",
              "      --disabled-fill-color: #AAA;\n",
              "      --disabled-bg-color: #DDD;\n",
              "  }\n",
              "\n",
              "  [theme=dark] .colab-df-quickchart {\n",
              "      --bg-color: #3B4455;\n",
              "      --fill-color: #D2E3FC;\n",
              "      --hover-bg-color: #434B5C;\n",
              "      --hover-fill-color: #FFFFFF;\n",
              "      --disabled-bg-color: #3B4455;\n",
              "      --disabled-fill-color: #666;\n",
              "  }\n",
              "\n",
              "  .colab-df-quickchart {\n",
              "    background-color: var(--bg-color);\n",
              "    border: none;\n",
              "    border-radius: 50%;\n",
              "    cursor: pointer;\n",
              "    display: none;\n",
              "    fill: var(--fill-color);\n",
              "    height: 32px;\n",
              "    padding: 0;\n",
              "    width: 32px;\n",
              "  }\n",
              "\n",
              "  .colab-df-quickchart:hover {\n",
              "    background-color: var(--hover-bg-color);\n",
              "    box-shadow: 0 1px 2px rgba(60, 64, 67, 0.3), 0 1px 3px 1px rgba(60, 64, 67, 0.15);\n",
              "    fill: var(--button-hover-fill-color);\n",
              "  }\n",
              "\n",
              "  .colab-df-quickchart-complete:disabled,\n",
              "  .colab-df-quickchart-complete:disabled:hover {\n",
              "    background-color: var(--disabled-bg-color);\n",
              "    fill: var(--disabled-fill-color);\n",
              "    box-shadow: none;\n",
              "  }\n",
              "\n",
              "  .colab-df-spinner {\n",
              "    border: 2px solid var(--fill-color);\n",
              "    border-color: transparent;\n",
              "    border-bottom-color: var(--fill-color);\n",
              "    animation:\n",
              "      spin 1s steps(1) infinite;\n",
              "  }\n",
              "\n",
              "  @keyframes spin {\n",
              "    0% {\n",
              "      border-color: transparent;\n",
              "      border-bottom-color: var(--fill-color);\n",
              "      border-left-color: var(--fill-color);\n",
              "    }\n",
              "    20% {\n",
              "      border-color: transparent;\n",
              "      border-left-color: var(--fill-color);\n",
              "      border-top-color: var(--fill-color);\n",
              "    }\n",
              "    30% {\n",
              "      border-color: transparent;\n",
              "      border-left-color: var(--fill-color);\n",
              "      border-top-color: var(--fill-color);\n",
              "      border-right-color: var(--fill-color);\n",
              "    }\n",
              "    40% {\n",
              "      border-color: transparent;\n",
              "      border-right-color: var(--fill-color);\n",
              "      border-top-color: var(--fill-color);\n",
              "    }\n",
              "    60% {\n",
              "      border-color: transparent;\n",
              "      border-right-color: var(--fill-color);\n",
              "    }\n",
              "    80% {\n",
              "      border-color: transparent;\n",
              "      border-right-color: var(--fill-color);\n",
              "      border-bottom-color: var(--fill-color);\n",
              "    }\n",
              "    90% {\n",
              "      border-color: transparent;\n",
              "      border-bottom-color: var(--fill-color);\n",
              "    }\n",
              "  }\n",
              "</style>\n",
              "\n",
              "      <script>\n",
              "        async function quickchart(key) {\n",
              "          const quickchartButtonEl =\n",
              "            document.querySelector('#' + key + ' button');\n",
              "          quickchartButtonEl.disabled = true;  // To prevent multiple clicks.\n",
              "          quickchartButtonEl.classList.add('colab-df-spinner');\n",
              "          try {\n",
              "            const charts = await google.colab.kernel.invokeFunction(\n",
              "                'suggestCharts', [key], {});\n",
              "          } catch (error) {\n",
              "            console.error('Error during call to suggestCharts:', error);\n",
              "          }\n",
              "          quickchartButtonEl.classList.remove('colab-df-spinner');\n",
              "          quickchartButtonEl.classList.add('colab-df-quickchart-complete');\n",
              "        }\n",
              "        (() => {\n",
              "          let quickchartButtonEl =\n",
              "            document.querySelector('#df-c0cbeac7-c848-421a-a7e4-e038d1596f6a button');\n",
              "          quickchartButtonEl.style.display =\n",
              "            google.colab.kernel.accessAllowed ? 'block' : 'none';\n",
              "        })();\n",
              "      </script>\n",
              "    </div>\n",
              "\n",
              "  <div id=\"id_3fc08d9d-3553-4f52-b5dc-252504c24477\">\n",
              "    <style>\n",
              "      .colab-df-generate {\n",
              "        background-color: #E8F0FE;\n",
              "        border: none;\n",
              "        border-radius: 50%;\n",
              "        cursor: pointer;\n",
              "        display: none;\n",
              "        fill: #1967D2;\n",
              "        height: 32px;\n",
              "        padding: 0 0 0 0;\n",
              "        width: 32px;\n",
              "      }\n",
              "\n",
              "      .colab-df-generate:hover {\n",
              "        background-color: #E2EBFA;\n",
              "        box-shadow: 0px 1px 2px rgba(60, 64, 67, 0.3), 0px 1px 3px 1px rgba(60, 64, 67, 0.15);\n",
              "        fill: #174EA6;\n",
              "      }\n",
              "\n",
              "      [theme=dark] .colab-df-generate {\n",
              "        background-color: #3B4455;\n",
              "        fill: #D2E3FC;\n",
              "      }\n",
              "\n",
              "      [theme=dark] .colab-df-generate:hover {\n",
              "        background-color: #434B5C;\n",
              "        box-shadow: 0px 1px 3px 1px rgba(0, 0, 0, 0.15);\n",
              "        filter: drop-shadow(0px 1px 2px rgba(0, 0, 0, 0.3));\n",
              "        fill: #FFFFFF;\n",
              "      }\n",
              "    </style>\n",
              "    <button class=\"colab-df-generate\" onclick=\"generateWithVariable('df')\"\n",
              "            title=\"Generate code using this dataframe.\"\n",
              "            style=\"display:none;\">\n",
              "\n",
              "  <svg xmlns=\"http://www.w3.org/2000/svg\" height=\"24px\"viewBox=\"0 0 24 24\"\n",
              "       width=\"24px\">\n",
              "    <path d=\"M7,19H8.4L18.45,9,17,7.55,7,17.6ZM5,21V16.75L18.45,3.32a2,2,0,0,1,2.83,0l1.4,1.43a1.91,1.91,0,0,1,.58,1.4,1.91,1.91,0,0,1-.58,1.4L9.25,21ZM18.45,9,17,7.55Zm-12,3A5.31,5.31,0,0,0,4.9,8.1,5.31,5.31,0,0,0,1,6.5,5.31,5.31,0,0,0,4.9,4.9,5.31,5.31,0,0,0,6.5,1,5.31,5.31,0,0,0,8.1,4.9,5.31,5.31,0,0,0,12,6.5,5.46,5.46,0,0,0,6.5,12Z\"/>\n",
              "  </svg>\n",
              "    </button>\n",
              "    <script>\n",
              "      (() => {\n",
              "      const buttonEl =\n",
              "        document.querySelector('#id_3fc08d9d-3553-4f52-b5dc-252504c24477 button.colab-df-generate');\n",
              "      buttonEl.style.display =\n",
              "        google.colab.kernel.accessAllowed ? 'block' : 'none';\n",
              "\n",
              "      buttonEl.onclick = () => {\n",
              "        google.colab.notebook.generateWithVariable('df');\n",
              "      }\n",
              "      })();\n",
              "    </script>\n",
              "  </div>\n",
              "\n",
              "    </div>\n",
              "  </div>\n"
            ],
            "application/vnd.google.colaboratory.intrinsic+json": {
              "type": "dataframe",
              "variable_name": "df",
              "summary": "{\n  \"name\": \"df\",\n  \"rows\": 100,\n  \"fields\": [\n    {\n      \"column\": \"AppID\",\n      \"properties\": {\n        \"dtype\": \"number\",\n        \"std\": 263,\n        \"min\": 5,\n        \"max\": 907,\n        \"num_unique_values\": 100,\n        \"samples\": [\n          755,\n          565,\n          650\n        ],\n        \"semantic_type\": \"\",\n        \"description\": \"\"\n      }\n    },\n    {\n      \"column\": \"Name\",\n      \"properties\": {\n        \"dtype\": \"string\",\n        \"num_unique_values\": 99,\n        \"samples\": [\n          \"Left 4 Dead 2 Demo\",\n          \"Team Fortress 2 - Premium DLC\",\n          \"Half-Life 2 Trailer\"\n        ],\n        \"semantic_type\": \"\",\n        \"description\": \"\"\n      }\n    },\n    {\n      \"column\": \"Genres\",\n      \"properties\": {\n        \"dtype\": \"category\",\n        \"num_unique_values\": 6,\n        \"samples\": [\n          \"\",\n          \"Action\",\n          \"Action, Adventure\"\n        ],\n        \"semantic_type\": \"\",\n        \"description\": \"\"\n      }\n    },\n    {\n      \"column\": \"Price\",\n      \"properties\": {\n        \"dtype\": \"category\",\n        \"num_unique_values\": 4,\n        \"samples\": [\n          \"$9.99\",\n          \"Gratis\",\n          \"Unknown\"\n        ],\n        \"semantic_type\": \"\",\n        \"description\": \"\"\n      }\n    }\n  ]\n}"
            }
          },
          "metadata": {}
        },
        {
          "output_type": "stream",
          "name": "stdout",
          "text": [
            "\n",
            "Data berhasil disimpan ke file steam_games_sample.csv\n"
          ]
        }
      ]
    },
    {
      "cell_type": "markdown",
      "source": [
        "**Text Pre-processing**"
      ],
      "metadata": {
        "id": "TT0zTgUjl_sa"
      }
    },
    {
      "cell_type": "markdown",
      "source": [
        "Lower Casing Name Game"
      ],
      "metadata": {
        "id": "s_AtzJn5l9qN"
      }
    },
    {
      "cell_type": "code",
      "source": [
        "from sklearn.feature_extraction.text import TfidfVectorizer\n",
        "import pandas as pd\n",
        "\n",
        "try:\n",
        "    df\n",
        "except NameError:\n",
        "    df = pd.read_csv(\"steam_games_sample.csv\")\n",
        "\n",
        "df[\"Clean_Name\"] = df[\"Name\"].str.lower()\n",
        "\n",
        "tfidf = TfidfVectorizer(max_features=500)  # ambil max 500 kata penting\n",
        "X_name_tfidf = tfidf.fit_transform(df[\"Clean_Name\"])\n",
        "\n",
        "print(\"Shape TF-IDF judul:\", X_name_tfidf.shape)\n",
        "print(\"Top 10 kata dari judul game:\", tfidf.get_feature_names_out()[:10])"
      ],
      "metadata": {
        "colab": {
          "base_uri": "https://localhost:8080/"
        },
        "id": "nllRStd0lpSm",
        "outputId": "4254d255-5a56-4921-989b-ed2c2001f951"
      },
      "execution_count": 42,
      "outputs": [
        {
          "output_type": "stream",
          "name": "stdout",
          "text": [
            "Shape TF-IDF judul: (100, 130)\n",
            "Top 10 kata dari judul game: ['2006' '2007' '2011' '2012' 'achievements' 'add' 'alien' 'antenna'\n",
            " 'artwork' 'authoring']\n"
          ]
        }
      ]
    },
    {
      "cell_type": "code",
      "source": [
        "df[\"Lower_Name\"] = df[\"Name\"].str.lower()\n",
        "df[\"Clean_Name\"] = (\n",
        "    df[\"Name\"]\n",
        "    .str.lower()\n",
        "    .str.replace(r\"[^a-z0-9\\s]\", \" \", regex=True)  # hapus simbol\n",
        "    .str.replace(r\"\\s+\", \" \", regex=True)          # rapikan spasi\n",
        "    .str.strip()\n",
        ")\n",
        "\n",
        "print(df[[\"Name\", \"Lower_Name\"]].sample(100, random_state=42))\n"
      ],
      "metadata": {
        "colab": {
          "base_uri": "https://localhost:8080/"
        },
        "id": "NLKyJ3HOmGZ0",
        "outputId": "10831964-4922-4b41-93ef-fbfdfd777130"
      },
      "execution_count": 43,
      "outputs": [
        {
          "output_type": "stream",
          "name": "stdout",
          "text": [
            "                                  Name                          Lower_Name\n",
            "83                  Steam Achievements                  steam achievements\n",
            "53          Left 4 Dead 2 Preorder DLC          left 4 dead 2 preorder dlc\n",
            "70         Portal 2 - Gamestop PS3 DLC         portal 2 - gamestop ps3 dlc\n",
            "45         Left 4 Dead Authoring Tools         left 4 dead authoring tools\n",
            "44        Left 4 Dead Dedicated Server        left 4 dead dedicated server\n",
            "..                                 ...                                 ...\n",
            "60  Dota 2 - Inflatable Donkey Courier  dota 2 - inflatable donkey courier\n",
            "71        Portal 2 - Bot Paint Job DLC        portal 2 - bot paint job dlc\n",
            "14               Half-Life: Blue Shift               half-life: blue shift\n",
            "92                        Zombie Movie                        zombie movie\n",
            "51       Left 4 Dead 2 Authoring Tools       left 4 dead 2 authoring tools\n",
            "\n",
            "[100 rows x 2 columns]\n"
          ]
        }
      ]
    },
    {
      "cell_type": "markdown",
      "source": [
        "Remove Frequent Word"
      ],
      "metadata": {
        "id": "4_OO6CXLtKSA"
      }
    },
    {
      "cell_type": "code",
      "source": [
        "import pandas as pd\n",
        "\n",
        "word_freq_df = pd.DataFrame(word_freq.items(), columns=[\"Word\", \"Frequency\"])\n",
        "word_freq_df = word_freq_df.sort_values(by=\"Frequency\", ascending=False)\n",
        "\n",
        "frequent_df = word_freq_df.head(20)\n",
        "\n",
        "print(\"Frequent Words:\")\n",
        "print(frequent_df)\n"
      ],
      "metadata": {
        "colab": {
          "base_uri": "https://localhost:8080/"
        },
        "id": "DAgs1pq2rd86",
        "outputId": "c617ea9e-1dcf-4850-b60b-d4c6b2d82b8b"
      },
      "execution_count": 44,
      "outputs": [
        {
          "output_type": "stream",
          "name": "stdout",
          "text": [
            "Frequent Words:\n",
            "          Word  Frequency\n",
            "34           2         41\n",
            "14        half         14\n",
            "15        life         14\n",
            "45      portal         13\n",
            "29      source         12\n",
            "53         dlc         11\n",
            "58        left         11\n",
            "59           4         11\n",
            "60        dead         11\n",
            "0    dedicated         10\n",
            "1       server         10\n",
            "2        steam          9\n",
            "67        dota          9\n",
            "5      counter          9\n",
            "6       strike          9\n",
            "7         team          7\n",
            "8     fortress          7\n",
            "124    trailer          6\n",
            "30         sdk          5\n",
            "35        demo          4\n"
          ]
        }
      ]
    },
    {
      "cell_type": "markdown",
      "source": [
        "Remove Rare Word"
      ],
      "metadata": {
        "id": "XNbqyrmztDg0"
      }
    },
    {
      "cell_type": "code",
      "source": [
        "import pandas as pd\n",
        "\n",
        "word_freq_df = pd.DataFrame(word_freq.items(), columns=[\"Word\", \"Frequency\"])\n",
        "word_freq_df = word_freq_df.sort_values(by=\"Frequency\", ascending=False)\n",
        "\n",
        "rare_df = word_freq_df[word_freq_df[\"Frequency\"] == 1].head(100)\n",
        "\n",
        "print(\"\\nRare Words:\")\n",
        "print(rare_df)\n"
      ],
      "metadata": {
        "colab": {
          "base_uri": "https://localhost:8080/"
        },
        "id": "kIbvmZgRrywG",
        "outputId": "b6e9c953-bf1c-4aca-86f9-03a2f90a33ce"
      },
      "execution_count": 47,
      "outputs": [
        {
          "output_type": "stream",
          "name": "stdout",
          "text": [
            "\n",
            "Rare Words:\n",
            "          Word  Frequency\n",
            "32        2006          1\n",
            "23     deleted          1\n",
            "51   community          1\n",
            "48         two          1\n",
            "46       first          1\n",
            "..         ...        ...\n",
            "127       doll          1\n",
            "128       kung          1\n",
            "129         fu          1\n",
            "130        red          1\n",
            "131  orchestra          1\n",
            "\n",
            "[82 rows x 2 columns]\n"
          ]
        }
      ]
    },
    {
      "cell_type": "markdown",
      "source": [
        "Removal Symbol from Price"
      ],
      "metadata": {
        "id": "b-Fj6UV-uNkc"
      }
    },
    {
      "cell_type": "code",
      "source": [
        "df[\"Clean_Price\"] = (\n",
        "    df[\"Price\"]\n",
        "    .str.replace(r\"[^\\d]\", \"\", regex=True)  # ambil angka\n",
        "    .replace(\"\", \"0\")                       # ganti kosong → 0\n",
        "    .astype(float)                          # ubah ke float\n",
        ")\n",
        "print(df[[\"Clean_Price\"]])"
      ],
      "metadata": {
        "id": "CMTFdtGmuN0L",
        "colab": {
          "base_uri": "https://localhost:8080/"
        },
        "outputId": "753ed700-ceb3-4d55-8cbb-510549d5cf97"
      },
      "execution_count": 46,
      "outputs": [
        {
          "output_type": "stream",
          "name": "stdout",
          "text": [
            "    Clean_Price\n",
            "0           0.0\n",
            "1           0.0\n",
            "2           0.0\n",
            "3         999.0\n",
            "4         499.0\n",
            "..          ...\n",
            "95          0.0\n",
            "96          0.0\n",
            "97          0.0\n",
            "98          0.0\n",
            "99          0.0\n",
            "\n",
            "[100 rows x 1 columns]\n"
          ]
        }
      ]
    }
  ]
}